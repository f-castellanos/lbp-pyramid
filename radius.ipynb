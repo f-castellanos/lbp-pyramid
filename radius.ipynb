{
 "cells": [
  {
   "cell_type": "code",
   "execution_count": 1,
   "id": "bbcf9040",
   "metadata": {},
   "outputs": [],
   "source": [
    "from create_db import *\n",
    "\n",
    "import pandas as pd\n",
    "import numpy as np\n",
    "import matplotlib.pyplot as plt\n",
    "from pathlib import Path\n",
    "from confusion_matrix_pretty_print import print_confusion_matrix\n",
    "\n",
    "%matplotlib inline"
   ]
  },
  {
   "cell_type": "code",
   "execution_count": 2,
   "id": "b5dd4974",
   "metadata": {},
   "outputs": [
    {
     "data": {
      "text/html": [
       "<div>\n",
       "<style scoped>\n",
       "    .dataframe tbody tr th:only-of-type {\n",
       "        vertical-align: middle;\n",
       "    }\n",
       "\n",
       "    .dataframe tbody tr th {\n",
       "        vertical-align: top;\n",
       "    }\n",
       "\n",
       "    .dataframe thead th {\n",
       "        text-align: right;\n",
       "    }\n",
       "</style>\n",
       "<table border=\"1\" class=\"dataframe\">\n",
       "  <thead>\n",
       "    <tr style=\"text-align: right;\">\n",
       "      <th></th>\n",
       "      <th>LBP_METHOD</th>\n",
       "      <th>METHOD</th>\n",
       "      <th>INTERPOLATION_ALGORITHM</th>\n",
       "      <th>BALANCE</th>\n",
       "      <th>N_SCALES</th>\n",
       "      <th>GRAY_INTENSITY</th>\n",
       "      <th>X2SCALE</th>\n",
       "    </tr>\n",
       "  </thead>\n",
       "  <tbody>\n",
       "    <tr>\n",
       "      <th>Parameters</th>\n",
       "      <td>riu2</td>\n",
       "      <td>get_pyramid_dataset</td>\n",
       "      <td>lanczos</td>\n",
       "      <td>False</td>\n",
       "      <td>5</td>\n",
       "      <td>True</td>\n",
       "      <td>True</td>\n",
       "    </tr>\n",
       "  </tbody>\n",
       "</table>\n",
       "</div>"
      ],
      "text/plain": [
       "           LBP_METHOD               METHOD INTERPOLATION_ALGORITHM  BALANCE  \\\n",
       "Parameters       riu2  get_pyramid_dataset                 lanczos    False   \n",
       "\n",
       "            N_SCALES  GRAY_INTENSITY  X2SCALE  \n",
       "Parameters         5            True     True  "
      ]
     },
     "execution_count": 2,
     "metadata": {},
     "output_type": "execute_result"
    }
   ],
   "source": [
    "PARAMETERS.LBP_METHOD = 'riu2'\n",
    "PARAMETERS.METHOD = 'get_pyramid_dataset'\n",
    "PARAMETERS.INTERPOLATION_ALGORITHM = 'lanczos'\n",
    "PARAMETERS.BALANCE = False\n",
    "PARAMETERS.N_SCALES = 5\n",
    "PARAMETERS.GRAY_INTENSITY = True\n",
    "PARAMETERS.X2SCALE = True\n",
    "PARAMETERS.FILE_EXTENSION = PARAMETERS.update_file_extension(PARAMETERS)\n",
    "PARAMETERS.PLOT = False\n",
    "\n",
    "pd.DataFrame({k: getattr(PARAMETERS, k) for k in VALID_PARAMETERS.keys()}, index=['Parameters']).head()"
   ]
  },
  {
   "cell_type": "code",
   "execution_count": 3,
   "id": "a07bdc3a",
   "metadata": {},
   "outputs": [],
   "source": [
    "PARAMETERS.RADIUS = 2"
   ]
  },
  {
   "cell_type": "code",
   "execution_count": 4,
   "id": "dc3f69f9",
   "metadata": {},
   "outputs": [],
   "source": [
    "main()"
   ]
  },
  {
   "cell_type": "code",
   "execution_count": 5,
   "id": "ac1b994e",
   "metadata": {},
   "outputs": [],
   "source": [
    "db_path = '../DB/extra_features/radius/2'\n",
    "train_file_name = f\"{db_path}/train_train_{PARAMETERS.FILE_EXTENSION}\"\n",
    "test_file_name = f\"{db_path}/train_test_{PARAMETERS.FILE_EXTENSION}\"\n",
    "df_train_r2 = pd.read_pickle(f'{train_file_name}.pkl', compression='gzip')\n",
    "df_test_r2 = pd.read_pickle(f'{test_file_name}.pkl', compression='gzip')"
   ]
  },
  {
   "cell_type": "code",
   "execution_count": 6,
   "id": "a6f41e4d",
   "metadata": {},
   "outputs": [
    {
     "data": {
      "text/html": [
       "<div>\n",
       "<style scoped>\n",
       "    .dataframe tbody tr th:only-of-type {\n",
       "        vertical-align: middle;\n",
       "    }\n",
       "\n",
       "    .dataframe tbody tr th {\n",
       "        vertical-align: top;\n",
       "    }\n",
       "\n",
       "    .dataframe thead th {\n",
       "        text-align: right;\n",
       "    }\n",
       "</style>\n",
       "<table border=\"1\" class=\"dataframe\">\n",
       "  <thead>\n",
       "    <tr style=\"text-align: right;\">\n",
       "      <th></th>\n",
       "      <th>Original</th>\n",
       "      <th>1:1</th>\n",
       "      <th>1:2</th>\n",
       "      <th>1:4</th>\n",
       "      <th>1:8</th>\n",
       "      <th>2:1_1</th>\n",
       "      <th>2:1_2</th>\n",
       "      <th>2:1_3</th>\n",
       "      <th>2:1_4</th>\n",
       "      <th>label</th>\n",
       "    </tr>\n",
       "  </thead>\n",
       "  <tbody>\n",
       "    <tr>\n",
       "      <th>0</th>\n",
       "      <td>1</td>\n",
       "      <td>8</td>\n",
       "      <td>8</td>\n",
       "      <td>8</td>\n",
       "      <td>8</td>\n",
       "      <td>7</td>\n",
       "      <td>6</td>\n",
       "      <td>9</td>\n",
       "      <td>7</td>\n",
       "      <td>0</td>\n",
       "    </tr>\n",
       "    <tr>\n",
       "      <th>1</th>\n",
       "      <td>1</td>\n",
       "      <td>8</td>\n",
       "      <td>8</td>\n",
       "      <td>8</td>\n",
       "      <td>8</td>\n",
       "      <td>6</td>\n",
       "      <td>9</td>\n",
       "      <td>8</td>\n",
       "      <td>9</td>\n",
       "      <td>0</td>\n",
       "    </tr>\n",
       "    <tr>\n",
       "      <th>2</th>\n",
       "      <td>1</td>\n",
       "      <td>8</td>\n",
       "      <td>8</td>\n",
       "      <td>8</td>\n",
       "      <td>8</td>\n",
       "      <td>9</td>\n",
       "      <td>8</td>\n",
       "      <td>8</td>\n",
       "      <td>8</td>\n",
       "      <td>0</td>\n",
       "    </tr>\n",
       "    <tr>\n",
       "      <th>3</th>\n",
       "      <td>1</td>\n",
       "      <td>8</td>\n",
       "      <td>8</td>\n",
       "      <td>8</td>\n",
       "      <td>8</td>\n",
       "      <td>8</td>\n",
       "      <td>8</td>\n",
       "      <td>8</td>\n",
       "      <td>8</td>\n",
       "      <td>0</td>\n",
       "    </tr>\n",
       "    <tr>\n",
       "      <th>4</th>\n",
       "      <td>1</td>\n",
       "      <td>8</td>\n",
       "      <td>8</td>\n",
       "      <td>8</td>\n",
       "      <td>8</td>\n",
       "      <td>7</td>\n",
       "      <td>9</td>\n",
       "      <td>8</td>\n",
       "      <td>7</td>\n",
       "      <td>0</td>\n",
       "    </tr>\n",
       "  </tbody>\n",
       "</table>\n",
       "</div>"
      ],
      "text/plain": [
       "   Original 1:1 1:2 1:4 1:8 2:1_1 2:1_2 2:1_3 2:1_4  label\n",
       "0         1   8   8   8   8     7     6     9     7      0\n",
       "1         1   8   8   8   8     6     9     8     9      0\n",
       "2         1   8   8   8   8     9     8     8     8      0\n",
       "3         1   8   8   8   8     8     8     8     8      0\n",
       "4         1   8   8   8   8     7     9     8     7      0"
      ]
     },
     "execution_count": 6,
     "metadata": {},
     "output_type": "execute_result"
    }
   ],
   "source": [
    "df_train_r2.head()"
   ]
  },
  {
   "cell_type": "code",
   "execution_count": 7,
   "id": "37c06cde",
   "metadata": {},
   "outputs": [
    {
     "data": {
      "text/plain": [
       "17"
      ]
     },
     "execution_count": 7,
     "metadata": {},
     "output_type": "execute_result"
    }
   ],
   "source": [
    "np.max(np.array(df_train_r2))"
   ]
  },
  {
   "cell_type": "code",
   "execution_count": 9,
   "id": "8b6f9c61",
   "metadata": {},
   "outputs": [],
   "source": [
    "df_train_r2.drop(['Original', 'label'], axis=1, inplace=True)\n",
    "df_test_r2.drop(['Original', 'label'], axis=1, inplace=True)"
   ]
  },
  {
   "cell_type": "code",
   "execution_count": 11,
   "id": "5944d42c",
   "metadata": {},
   "outputs": [
    {
     "name": "stdout",
     "output_type": "stream",
     "text": [
      "[LightGBM] [Warning] Auto-choosing row-wise multi-threading, the overhead of testing was 0.039419 seconds.\n",
      "You can set `force_row_wise=true` to remove the overhead.\n",
      "And if memory is not enough, you can set `force_col_wise=true`.\n",
      "Accuracy score: 0.9117521227967568\n",
      "\n",
      "F1 score: 0.6030473876704914\n",
      "\n",
      "Confusion matrix:\n",
      "\n",
      "     t/p      0     1 \n",
      "        0 1151105 36440 \n",
      "        1 83816 91346 \n",
      "Sensivity: 0.521494388052203\n",
      "Specificity: 0.9693148470163236\n"
     ]
    },
    {
     "data": {
      "text/plain": [
       "(0.912, 0.603, 1151105, 36440, 83816, 91346)"
      ]
     },
     "execution_count": 11,
     "metadata": {},
     "output_type": "execute_result"
    }
   ],
   "source": [
    "from main import *\n",
    "\n",
    "main(lgb=True, plot_once=True, extra_features={'train': df_train_r2, 'test': df_test_r2})"
   ]
  },
  {
   "cell_type": "code",
   "execution_count": 12,
   "id": "d4d5185c",
   "metadata": {},
   "outputs": [
    {
     "name": "stdout",
     "output_type": "stream",
     "text": [
      "[LightGBM] [Warning] Auto-choosing row-wise multi-threading, the overhead of testing was 0.113092 seconds.\n",
      "You can set `force_row_wise=true` to remove the overhead.\n",
      "And if memory is not enough, you can set `force_col_wise=true`.\n",
      "Accuracy score: 0.9234861199069205\n",
      "\n",
      "F1 score: 0.6910637037037037\n",
      "\n",
      "Confusion matrix:\n",
      "\n",
      "     t/p      0     1 \n",
      "        0 1141824 45721 \n",
      "        1 58545 116617 \n",
      "Sensivity: 0.6657665475388498\n",
      "Specificity: 0.9614995642270399\n"
     ]
    },
    {
     "data": {
      "text/plain": [
       "(0.923, 0.691, 1141824, 45721, 58545, 116617)"
      ]
     },
     "execution_count": 12,
     "metadata": {},
     "output_type": "execute_result"
    }
   ],
   "source": [
    "main(lgb=True, all_lbp=True, plot_once=True, extra_features={'train': df_train_r2, 'test': df_test_r2})"
   ]
  },
  {
   "cell_type": "code",
   "execution_count": null,
   "id": "6774a31d",
   "metadata": {},
   "outputs": [],
   "source": []
  }
 ],
 "metadata": {
  "kernelspec": {
   "display_name": "Python 3 (ipykernel)",
   "language": "python",
   "name": "python3"
  },
  "language_info": {
   "codemirror_mode": {
    "name": "ipython",
    "version": 3
   },
   "file_extension": ".py",
   "mimetype": "text/x-python",
   "name": "python",
   "nbconvert_exporter": "python",
   "pygments_lexer": "ipython3",
   "version": "3.8.11"
  }
 },
 "nbformat": 4,
 "nbformat_minor": 5
}
