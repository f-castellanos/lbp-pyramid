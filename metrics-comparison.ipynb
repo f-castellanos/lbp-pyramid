{
 "cells": [
  {
   "cell_type": "markdown",
   "id": "6465f3e6",
   "metadata": {},
   "source": [
    "# Comparación de las métricas para las diferentes alternativas"
   ]
  },
  {
   "cell_type": "markdown",
   "id": "0c6054ff",
   "metadata": {},
   "source": [
    "## Algoritmo de interpolación\n",
    "\n",
    "#### Nearest neighbor\n",
    "\n",
    "#### Bicubic\n",
    "\n",
    "# TODO: añadir comparativa en imágenes del gold standard a inferiores resoluciones"
   ]
  },
  {
   "cell_type": "markdown",
   "id": "f4486e36",
   "metadata": {},
   "source": [
    "## Diferentes librería de Naive-Bayes"
   ]
  },
  {
   "cell_type": "markdown",
   "id": "159f8e26",
   "metadata": {},
   "source": [
    "## Utilización de la intensidad original de las imágenes"
   ]
  },
  {
   "cell_type": "markdown",
   "id": "a3c2aaa6",
   "metadata": {},
   "source": [
    "## Utilización de diferentes escalas"
   ]
  },
  {
   "cell_type": "markdown",
   "id": "2eef5c90",
   "metadata": {},
   "source": [
    "# TODO: Poner el código que verifica que los parámetros de configuración sean correctos"
   ]
  },
  {
   "cell_type": "code",
   "execution_count": null,
   "id": "e6ede56c",
   "metadata": {},
   "outputs": [],
   "source": []
  }
 ],
 "metadata": {
  "kernelspec": {
   "display_name": "Python 3 (ipykernel)",
   "language": "python",
   "name": "python3"
  },
  "language_info": {
   "codemirror_mode": {
    "name": "ipython",
    "version": 3
   },
   "file_extension": ".py",
   "mimetype": "text/x-python",
   "name": "python",
   "nbconvert_exporter": "python",
   "pygments_lexer": "ipython3",
   "version": "3.8.11"
  }
 },
 "nbformat": 4,
 "nbformat_minor": 5
}
