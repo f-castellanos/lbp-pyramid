{
 "cells": [
  {
   "cell_type": "markdown",
   "id": "5c1f88a6",
   "metadata": {},
   "source": [
    "# Comparación de las métricas para las diferentes alternativas"
   ]
  },
  {
   "cell_type": "markdown",
   "id": "a702c0cb",
   "metadata": {},
   "source": [
    "## Algoritmo de interpolación\n",
    "\n",
    "#### Nearest neighbor\n",
    "\n",
    "#### Bicubic\n",
    "\n",
    "# TODO: añadir comparativa en imágenes del gold standard a inferiores resoluciones"
   ]
  },
  {
   "cell_type": "markdown",
   "id": "30bc6dd9",
   "metadata": {},
   "source": [
    "## Diferentes librería de Naive-Bayes"
   ]
  },
  {
   "cell_type": "markdown",
   "id": "07291c64",
   "metadata": {},
   "source": [
    "## Utilización de la intensidad original de las imágenes"
   ]
  },
  {
   "cell_type": "markdown",
   "id": "39af0727",
   "metadata": {},
   "source": [
    "## Utilización de diferentes escalas"
   ]
  },
  {
   "cell_type": "code",
   "execution_count": null,
   "id": "f7ae5906",
   "metadata": {},
   "outputs": [],
   "source": []
  }
 ],
 "metadata": {
  "kernelspec": {
   "display_name": "Python 3 (ipykernel)",
   "language": "python",
   "name": "python3"
  },
  "language_info": {
   "codemirror_mode": {
    "name": "ipython",
    "version": 3
   },
   "file_extension": ".py",
   "mimetype": "text/x-python",
   "name": "python",
   "nbconvert_exporter": "python",
   "pygments_lexer": "ipython3",
   "version": "3.8.11"
  }
 },
 "nbformat": 4,
 "nbformat_minor": 5
}
